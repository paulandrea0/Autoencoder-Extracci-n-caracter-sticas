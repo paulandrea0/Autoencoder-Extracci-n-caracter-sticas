{
  "nbformat": 4,
  "nbformat_minor": 0,
  "metadata": {
    "colab": {
      "provenance": [],
      "authorship_tag": "ABX9TyN9+0J1/pYQEUJq6+BtPyZY",
      "include_colab_link": true
    },
    "kernelspec": {
      "name": "python3",
      "display_name": "Python 3"
    },
    "language_info": {
      "name": "python"
    }
  },
  "cells": [
    {
      "cell_type": "markdown",
      "metadata": {
        "id": "view-in-github",
        "colab_type": "text"
      },
      "source": [
        "<a href=\"https://colab.research.google.com/github/paulandrea0/Autoencoder-Extracci-n-caracter-sticas/blob/main/Autoencoder_para_extraer_caracter%C3%ADsticas.ipynb\" target=\"_parent\"><img src=\"https://colab.research.google.com/assets/colab-badge.svg\" alt=\"Open In Colab\"/></a>"
      ]
    },
    {
      "cell_type": "code",
      "execution_count": 2,
      "metadata": {
        "colab": {
          "base_uri": "https://localhost:8080/"
        },
        "id": "Vpa56vUjpylm",
        "outputId": "a1dea81b-dabc-411e-ac94-308dda0e692a"
      },
      "outputs": [
        {
          "output_type": "stream",
          "name": "stdout",
          "text": [
            "Mounted at /gdrive\n"
          ]
        }
      ],
      "source": [
        "from google.colab import drive\n",
        "drive.mount('/gdrive')"
      ]
    },
    {
      "cell_type": "markdown",
      "source": [
        "# Cargando el banco de datos de mi Drive"
      ],
      "metadata": {
        "id": "4c3Y-P9cq1Ci"
      }
    },
    {
      "cell_type": "markdown",
      "source": [
        "El set de datos ya está dividido en set_train y set_test"
      ],
      "metadata": {
        "id": "8oHbJu1_q53y"
      }
    },
    {
      "cell_type": "code",
      "source": [
        "import pandas as pd\n",
        "import numpy as np\n",
        "df_train = pd.read_csv('/gdrive/MyDrive/Cardiacos/deteccion-anomalias-cardiacas-autoencoders-main/ECG5000_train.csv')\n",
        "df_test = pd.read_csv('/gdrive/MyDrive/Cardiacos/deteccion-anomalias-cardiacas-autoencoders-main/ECG5000_test.csv')\n",
        "print(df_train.shape)\n",
        "print(df_test.shape)\n",
        "X_train = np.array(df_train)\n",
        "X_test = np.array(df_test)\n",
        "df_train['0'].value_counts()"
      ],
      "metadata": {
        "colab": {
          "base_uri": "https://localhost:8080/"
        },
        "id": "_T-jSfNTqmQC",
        "outputId": "eda02030-df47-4434-98ff-1ff382a45067"
      },
      "execution_count": 7,
      "outputs": [
        {
          "output_type": "stream",
          "name": "stdout",
          "text": [
            "(7600, 141)\n",
            "(1900, 141)\n"
          ]
        },
        {
          "output_type": "execute_result",
          "data": {
            "text/plain": [
              "1    4427\n",
              "2    2683\n",
              "4     306\n",
              "3     149\n",
              "5      35\n",
              "Name: 0, dtype: int64"
            ]
          },
          "metadata": {},
          "execution_count": 7
        }
      ]
    },
    {
      "cell_type": "markdown",
      "source": [
        "# Autoencoder para extracción de características de las señales cardiacas"
      ],
      "metadata": {
        "id": "FviEEOMAqta5"
      }
    },
    {
      "cell_type": "markdown",
      "source": [
        "Normalización:"
      ],
      "metadata": {
        "id": "_iCYTWQ1rL_j"
      }
    },
    {
      "cell_type": "code",
      "source": [
        "from sklearn.preprocessing import MinMaxScaler\n",
        "min_max_scaler = MinMaxScaler()\n",
        "\n",
        "X_train_s = min_max_scaler.fit_transform(X_train)\n",
        "print('Mínimo y máximo originales: {:.1f}, {:.1f}'.format(np.min(X_train), np.max(X_train)))      \n",
        "print('Mínimo y máximo normalizado: {:.1f}, {:.1f}'.format(np.min(X_train_s), np.max(X_train_s))) \n",
        "X_test_s = min_max_scaler.transform(X_test)"
      ],
      "metadata": {
        "colab": {
          "base_uri": "https://localhost:8080/"
        },
        "id": "I_ieXhF2qqdr",
        "outputId": "440b8cd2-5aba-4eac-eabc-9b94bb5b3eb2"
      },
      "execution_count": 5,
      "outputs": [
        {
          "output_type": "stream",
          "name": "stdout",
          "text": [
            "Mínimo y máximo originales: -7.1, 7.4\n",
            "Mínimo y máximo normalizado: 0.0, 1.0\n"
          ]
        }
      ]
    },
    {
      "cell_type": "code",
      "source": [
        "from tensorflow.keras.models import Model\n",
        "from tensorflow.keras.layers import Input, Dense, Activation\n",
        "from tensorflow.keras import Sequential\n",
        "from keras.layers import Dropout  \n",
        "from keras.callbacks import EarlyStopping"
      ],
      "metadata": {
        "id": "56YcA1phuH7I"
      },
      "execution_count": 8,
      "outputs": []
    },
    {
      "cell_type": "markdown",
      "source": [
        "A continuación la configuración del autoencoder para reducir de 141 caracteres que tiene cada señal cardiaca para 20 caracteres. Escojo el valor de reducción de 141 a 20 de forma empírica (prueba y ajuste)."
      ],
      "metadata": {
        "id": "ZYG8Gl5Suhwa"
      }
    },
    {
      "cell_type": "code",
      "source": [
        "dim_entrada = X_train_s.shape[1]      \n",
        "entrada = Input(shape=(dim_entrada,))\n",
        "print(X_train_s.shape[1])             \n",
        "\n",
        "# Encoder\n",
        "x = Dense(80, activation='relu', )(entrada) # aqui de la entrada de 141 , ya lo reduce a 80\n",
        "x = Dense(40, activation='relu')(x)\n",
        "codificacion = Dense(20, activation='relu', name='bottleneck_layer')(x) # este es el cuello de botella, que será de aqui en adelante el set de datos de entrenamiento de forma codificada\n",
        "\n",
        "# Decoder \n",
        "x = Dense(40, activation='relu')(codificacion)\n",
        "x = Dense(80, activation='relu')(x)\n",
        "decoded = Dense(141, activation='sigmoid')(x)\n",
        "\n",
        "# autoencoder = entrada + decoder (que contiene el encoder)\n",
        "autoencoder = Model(inputs=entrada, outputs=decoded)\n",
        "\n",
        "autoencoder.summary()"
      ],
      "metadata": {
        "colab": {
          "base_uri": "https://localhost:8080/"
        },
        "id": "GxEhw3W7ud25",
        "outputId": "345ee9ab-97e4-4d6e-a5a4-48a28327b617"
      },
      "execution_count": 9,
      "outputs": [
        {
          "output_type": "stream",
          "name": "stdout",
          "text": [
            "141\n",
            "Model: \"model\"\n",
            "_________________________________________________________________\n",
            " Layer (type)                Output Shape              Param #   \n",
            "=================================================================\n",
            " input_1 (InputLayer)        [(None, 141)]             0         \n",
            "                                                                 \n",
            " dense (Dense)               (None, 80)                11360     \n",
            "                                                                 \n",
            " dense_1 (Dense)             (None, 40)                3240      \n",
            "                                                                 \n",
            " bottleneck_layer (Dense)    (None, 20)                820       \n",
            "                                                                 \n",
            " dense_2 (Dense)             (None, 40)                840       \n",
            "                                                                 \n",
            " dense_3 (Dense)             (None, 80)                3280      \n",
            "                                                                 \n",
            " dense_4 (Dense)             (None, 141)               11421     \n",
            "                                                                 \n",
            "=================================================================\n",
            "Total params: 30,961\n",
            "Trainable params: 30,961\n",
            "Non-trainable params: 0\n",
            "_________________________________________________________________\n"
          ]
        }
      ]
    },
    {
      "cell_type": "markdown",
      "source": [
        "Ahora paso los datos de entrenamiento y prueba en el modelo de autoencoder que acabo de configurar para obtener una representación codificada (el cuello de botella):"
      ],
      "metadata": {
        "id": "_5qULOjLv6x9"
      }
    },
    {
      "cell_type": "code",
      "source": [
        "bottleneck = Model(entrada, codificacion) \n",
        "test_codificado = bottleneck.predict(X_test_s)\n",
        "train_codificado = bottleneck.predict(X_train_s)\n",
        "print(test_codificado.shape)\n",
        "print(train_codificado.shape)"
      ],
      "metadata": {
        "colab": {
          "base_uri": "https://localhost:8080/"
        },
        "id": "wKIZj5oawQDm",
        "outputId": "3d108802-7004-4fad-cc9a-627246d4f05f"
      },
      "execution_count": 10,
      "outputs": [
        {
          "output_type": "stream",
          "name": "stdout",
          "text": [
            "60/60 [==============================] - 1s 2ms/step\n",
            "238/238 [==============================] - 1s 4ms/step\n",
            "(1900, 20)\n",
            "(7600, 20)\n"
          ]
        }
      ]
    }
  ]
}